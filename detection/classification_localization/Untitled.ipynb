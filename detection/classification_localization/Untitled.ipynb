{
 "cells": [
  {
   "cell_type": "code",
   "execution_count": 1,
   "metadata": {},
   "outputs": [
    {
     "name": "stderr",
     "output_type": "stream",
     "text": [
      "Using TensorFlow backend.\n"
     ]
    }
   ],
   "source": [
    "import tensorflow as tf\n",
    "import keras.backend as K\n",
    "\n",
    "tf.enable_eager_execution()"
   ]
  },
  {
   "cell_type": "markdown",
   "metadata": {},
   "source": [
    "# Tensorflow"
   ]
  },
  {
   "cell_type": "code",
   "execution_count": 2,
   "metadata": {},
   "outputs": [],
   "source": [
    "y_true = [[  6.,  33., 122., 126.],\n",
    "       [ 30.,  91., 135., 181.],\n",
    "       [ 53.,  71., 180., 156.],\n",
    "       [ 70.,  26., 182., 118.],\n",
    "       [  4.,  17., 143., 135.],\n",
    "       [ 13.,  62., 221., 154.],\n",
    "       [ 93.,  66., 201., 153.],\n",
    "       [ 19.,  70., 221., 203.],\n",
    "       [  4.,  62., 155., 162.],\n",
    "       [ 32.,  95., 197., 173.],\n",
    "       [  6.,  90., 110., 172.],\n",
    "       [  8.,  92., 112., 177.],\n",
    "       [ 60.,  27., 171., 119.],\n",
    "       [ 29.,  77., 189., 159.],\n",
    "       [ 43.,  91., 190., 174.],\n",
    "       [ 98.,  71., 213., 155.],\n",
    "       [ 38.,  99., 193., 178.],\n",
    "       [ 32.,  24., 174., 136.],\n",
    "       [ 10.,  16., 170., 140.],\n",
    "       [ 26.,  95., 192., 173.],\n",
    "       [ 16.,  85., 211., 164.],\n",
    "       [ 40., 106., 205., 185.],\n",
    "       [ 59.,  65., 179., 165.],\n",
    "       [ 43.,  90., 186., 153.],\n",
    "       [ 42.,  67., 179., 161.],\n",
    "       [ 35.,  37., 196., 186.],\n",
    "       [  4.,  17., 148., 141.],\n",
    "       [  4.,  22., 128., 123.],\n",
    "       [ 28.,  95., 203., 181.],\n",
    "       [ 77.,  66., 198., 158.],\n",
    "       [ 29., 114., 199., 190.],\n",
    "       [ 58.,   8., 217., 146.]]\n",
    "\n",
    "y_pred = [[ -0.4439521,  34.447388 , 113.72568  , 117.68549  ],\n",
    "       [ 28.45551  ,  92.62844  , 136.11678  , 182.44775  ],\n",
    "       [ 60.741344 ,  63.901207 , 179.57137  , 151.59528  ],\n",
    "       [ 53.0822   ,  22.065207 , 183.72542  , 130.4694   ],\n",
    "       [  3.0927472,  29.576227 , 140.81683  , 146.92331  ],\n",
    "       [ 11.89432  ,  60.76246  , 188.40762  , 160.3068   ],\n",
    "       [ 91.045006 ,  79.76922  , 223.49547  , 176.05885  ],\n",
    "       [ 15.859093 , 112.48791  , 257.92056  , 239.19385  ],\n",
    "       [  5.88147  ,  73.468315 , 160.17128  , 173.4097   ],\n",
    "       [ 43.223183 , 108.905174 , 236.60373  , 192.3027   ],\n",
    "       [ 23.507336 ,  82.02389  , 150.19234  , 168.70627  ],\n",
    "       [ 16.851665 , 101.18001  , 143.38643  , 163.28886  ],\n",
    "       [ 40.995834 ,  22.98652  , 175.69484  , 123.932655 ],\n",
    "       [ 30.536848 ,  89.326546 , 198.63844  , 165.52965  ],\n",
    "       [ 16.705988 ,  89.655556 , 176.23407  , 168.1415   ],\n",
    "       [ 99.43445  ,  78.16329  , 225.69695  , 174.40933  ],\n",
    "       [ 29.316677 ,  98.15511  , 231.8738   , 211.27692  ],\n",
    "       [ 23.894922 ,  20.021988 , 174.29305  , 148.63777  ],\n",
    "       [ 14.116407 ,  20.526682 , 158.6054   , 136.03134  ],\n",
    "       [ 28.796925 , 114.29098  , 234.82024  , 190.14511  ],\n",
    "       [ 12.789124 ,  74.31054  , 176.7833   , 155.27771  ],\n",
    "       [ 22.563774 , 107.57384  , 201.0367   , 204.13637  ],\n",
    "       [ 39.86416  ,  85.32438  , 187.91216  , 174.2539   ],\n",
    "       [ 22.9221   ,  93.795944 , 182.63664  , 169.14896  ],\n",
    "       [ 42.504654 ,  62.759296 , 182.61238  , 162.88644  ],\n",
    "       [ 23.216793 ,  60.4358   , 223.44006  , 204.19101  ],\n",
    "       [  2.8829894,  13.667356 , 147.93271  , 137.76785  ],\n",
    "       [  5.529781 ,  23.46388  , 134.59569  , 127.21027  ],\n",
    "       [ 41.213104 ,  89.48496  , 200.58548  , 171.44536  ],\n",
    "       [ 77.882515 ,  66.680626 , 186.9205   , 159.86935  ],\n",
    "       [ 30.747364 , 118.72     , 195.3869   , 189.8705   ],\n",
    "       [ 61.726646 ,  16.015862 , 214.71358  , 149.05313  ]]\n",
    "y_pred = [[int(x) for x in bbox] for bbox in y_pred]"
   ]
  },
  {
   "cell_type": "code",
   "execution_count": 3,
   "metadata": {},
   "outputs": [],
   "source": [
    "bboxes1 = tf.constant([[  6.,  33., 122., 126.],\n",
    "       [ 30.,  91., 135., 181.],\n",
    "       [ 53.,  71., 180., 156.],\n",
    "       [ 70.,  26., 182., 118.],\n",
    "       [  4.,  17., 143., 135.],\n",
    "       [ 13.,  62., 221., 154.],\n",
    "       [ 93.,  66., 201., 153.],\n",
    "       [ 19.,  70., 221., 203.],\n",
    "       [  4.,  62., 155., 162.],\n",
    "       [ 32.,  95., 197., 173.],\n",
    "       [  6.,  90., 110., 172.],\n",
    "       [  8.,  92., 112., 177.],\n",
    "       [ 60.,  27., 171., 119.],\n",
    "       [ 29.,  77., 189., 159.],\n",
    "       [ 43.,  91., 190., 174.],\n",
    "       [ 98.,  71., 213., 155.],\n",
    "       [ 38.,  99., 193., 178.],\n",
    "       [ 32.,  24., 174., 136.],\n",
    "       [ 10.,  16., 170., 140.],\n",
    "       [ 26.,  95., 192., 173.],\n",
    "       [ 16.,  85., 211., 164.],\n",
    "       [ 40., 106., 205., 185.],\n",
    "       [ 59.,  65., 179., 165.],\n",
    "       [ 43.,  90., 186., 153.],\n",
    "       [ 42.,  67., 179., 161.],\n",
    "       [ 35.,  37., 196., 186.],\n",
    "       [  4.,  17., 148., 141.],\n",
    "       [  4.,  22., 128., 123.],\n",
    "       [ 28.,  95., 203., 181.],\n",
    "       [ 77.,  66., 198., 158.],\n",
    "       [ 29., 114., 199., 190.],\n",
    "       [ 58.,   8., 217., 146.]], dtype=tf.float32)\n",
    "bboxes2 = tf.constant([[0, 34, 113, 117],\n",
    " [28, 92, 136, 182],\n",
    " [60, 63, 179, 151],\n",
    " [53, 22, 183, 130],\n",
    " [3, 29, 140, 146],\n",
    " [11, 60, 188, 160],\n",
    " [91, 79, 223, 176],\n",
    " [15, 112, 257, 239],\n",
    " [5, 73, 160, 173],\n",
    " [43, 108, 236, 192],\n",
    " [23, 82, 150, 168],\n",
    " [16, 101, 143, 163],\n",
    " [40, 22, 175, 123],\n",
    " [30, 89, 198, 165],\n",
    " [16, 89, 176, 168],\n",
    " [99, 78, 225, 174],\n",
    " [29, 98, 231, 211],\n",
    " [23, 20, 174, 148],\n",
    " [14, 20, 158, 136],\n",
    " [28, 114, 234, 190],\n",
    " [12, 74, 176, 155],\n",
    " [22, 107, 201, 204],\n",
    " [39, 85, 187, 174],\n",
    " [22, 93, 182, 169],\n",
    " [42, 62, 182, 162],\n",
    " [23, 60, 223, 204],\n",
    " [2, 13, 147, 137],\n",
    " [5, 23, 134, 127],\n",
    " [41, 89, 200, 171],\n",
    " [77, 66, 186, 159],\n",
    " [30, 118, 195, 189],\n",
    " [61, 16, 214, 149]], dtype=tf.float32)"
   ]
  },
  {
   "cell_type": "code",
   "execution_count": 4,
   "metadata": {},
   "outputs": [],
   "source": [
    "y_true = tf.constant(y_true, dtype=tf.float32)\n",
    "y_pred = tf.constant(y_pred, dtype=tf.float32)"
   ]
  },
  {
   "cell_type": "code",
   "execution_count": 8,
   "metadata": {},
   "outputs": [],
   "source": [
    "def tf_iou(y_true, y_pred):\n",
    "    x11, y11, x12, y12 = tf.split(y_true, 4, axis=1)\n",
    "    x21, y21, x22, y22 = tf.split(y_pred, 4, axis=1)\n",
    "\n",
    "    xI1 = tf.maximum(x11, tf.transpose(x21))\n",
    "    xI2 = tf.minimum(x12, tf.transpose(x22))\n",
    "\n",
    "    yI1 = tf.maximum(y11, tf.transpose(y21))\n",
    "    yI2 = tf.minimum(y12, tf.transpose(y22))\n",
    "\n",
    "    wI = tf.maximum((xI2 - xI1), 0)\n",
    "    hI = tf.maximum((yI2 - yI1), 0)\n",
    "\n",
    "    inter_area = wI * hI\n",
    "\n",
    "    y_true_area = (x12 - x11) * (y12 - y11)\n",
    "    y_pred_area = (x22 - x21) * (y22 - y21)\n",
    "\n",
    "    union = (y_true_area + tf.transpose(y_pred_area)) - inter_area\n",
    "\n",
    "    ious = tf.diag_part(inter_area / (union+0.0001))\n",
    "    return tf.reduce_mean(ious)\n",
    "\n",
    "def keras_iou(y_true, y_pred):\n",
    "    x11, y11, x12, y12 = y_true[:,0], y_true[:,1], y_true[:,2], y_true[:,3]\n",
    "    x21, y21, x22, y22 = y_pred[:,0], y_pred[:,1], y_pred[:,2], y_pred[:,3]\n",
    "\n",
    "    xI1 = K.maximum(x11, K.transpose(x21))\n",
    "    xI2 = K.minimum(x12, K.transpose(x22))\n",
    "\n",
    "    yI1 = K.maximum(y11, K.transpose(y21))\n",
    "    yI2 = K.minimum(y12, K.transpose(y22))\n",
    "\n",
    "    wI = K.maximum((xI2 - xI1), 0)\n",
    "    hI = K.maximum((yI2 - yI1), 0)\n",
    "\n",
    "    inter_area = wI * hI\n",
    "\n",
    "    y_true_area = (x12 - x11) * (y12 - y11)\n",
    "    y_pred_area = (x22 - x21) * (y22 - y21)\n",
    "\n",
    "    union = (y_true_area + K.transpose(y_pred_area)) - inter_area\n",
    "    \n",
    "    ious = inter_area / (union + 0.0001)\n",
    "    return K.mean(ious)"
   ]
  },
  {
   "cell_type": "code",
   "execution_count": 13,
   "metadata": {},
   "outputs": [
    {
     "name": "stdout",
     "output_type": "stream",
     "text": [
      "tf.Tensor(0.7339031, shape=(), dtype=float32)\n",
      "tf.Tensor(0.7339031, shape=(), dtype=float32)\n"
     ]
    }
   ],
   "source": [
    "i = 3\n",
    "print(tf_iou(y_true[i:i+1], y_pred[i:i+1]))\n",
    "print(keras_iou(y_true[i:i+1], y_pred[i:i+1]))"
   ]
  },
  {
   "cell_type": "code",
   "execution_count": 14,
   "metadata": {},
   "outputs": [
    {
     "name": "stdout",
     "output_type": "stream",
     "text": [
      "tf.Tensor(0.7277671, shape=(), dtype=float32)\n",
      "tf.Tensor(0.7277671, shape=(), dtype=float32)\n"
     ]
    }
   ],
   "source": [
    "print(tf_iou(y_true, y_pred))\n",
    "print(keras_iou(y_true, y_pred))"
   ]
  },
  {
   "cell_type": "markdown",
   "metadata": {},
   "source": [
    "_____"
   ]
  },
  {
   "cell_type": "raw",
   "metadata": {},
   "source": [
    "print(\"max\", \"max\", \"min\", \"min\", sep=\"\\t\\t\")\n",
    "print(x11.numpy(), y11.numpy(), x12.numpy(), y12.numpy(), sep=\"\\t\\t\")\n",
    "print(x21.numpy(), y21.numpy(), x22.numpy(), y22.numpy(), sep=\"\\t\\t\")\n",
    "print()\n",
    "print(xI1.numpy(), yI1.numpy(), xI2.numpy(), yI2.numpy(), sep=\"\\t\\t\")\n",
    "print()\n",
    "print(\"{} - {} = {}, \".format(xI2.numpy(), xI1.numpy(), tf.maximum((xI2 - xI1), 0).numpy()),\n",
    "     \"{} - {} = {}\".format(yI2.numpy(), yI1.numpy(), tf.maximum((yI2 - yI1), 0).numpy()))"
   ]
  },
  {
   "cell_type": "markdown",
   "metadata": {},
   "source": [
    "# Numpy"
   ]
  },
  {
   "cell_type": "code",
   "execution_count": 1,
   "metadata": {},
   "outputs": [],
   "source": [
    "import numpy as np"
   ]
  },
  {
   "cell_type": "code",
   "execution_count": 7,
   "metadata": {},
   "outputs": [],
   "source": [
    "y_true = np.array([[18, 69, 228, 133]])\n",
    "y_pred = np.array([[13, 60, 190, 125]])"
   ]
  },
  {
   "cell_type": "raw",
   "metadata": {},
   "source": [
    "diff_width = np.minimum(y_true[:,0] + y_true[:,2], y_pred[:,0] + y_pred[:,2]) - np.maximum(y_true[:,0], y_pred[:,0])\n",
    "diff_height = np.minimum(y_true[:,1] + y_true[:,3], y_pred[:,1] + y_pred[:,3]) - np.maximum(y_true[:,1], y_pred[:,1])\n",
    "intersection = np.maximum(diff_width, 0) * np.maximum(diff_height, 0)\n",
    "print(intersection)\n",
    "\n",
    "area_true = y_true[:,2] * y_true[:,3]\n",
    "area_pred = y_pred[:,2] * y_pred[:,3]\n",
    "union = np.maximum(area_true + area_pred - intersection, 0)\n",
    "\n",
    "intersection = np.sum(intersection * (union > 0))\n",
    "union = np.sum(union)\n",
    "print(intersection)\n",
    "print(union)\n",
    "\n",
    "iou = np.round(intersection / (union), 4)"
   ]
  },
  {
   "cell_type": "markdown",
   "metadata": {},
   "source": [
    "________"
   ]
  },
  {
   "cell_type": "raw",
   "metadata": {},
   "source": [
    "w_true = y_true[:,2] - y_true[:,0]\n",
    "h_true = y_true[:,3] - y_true[:,1]\n",
    "area_true = w_true * h_true\n",
    "\n",
    "w_pred = y_pred[:,2] - y_pred[:,0]\n",
    "h_pred = y_pred[:,3] - y_pred[:,1]\n",
    "area_pred = w_pred * h_pred"
   ]
  }
 ],
 "metadata": {
  "kernelspec": {
   "display_name": "Python 3",
   "language": "python",
   "name": "python3"
  },
  "language_info": {
   "codemirror_mode": {
    "name": "ipython",
    "version": 3
   },
   "file_extension": ".py",
   "mimetype": "text/x-python",
   "name": "python",
   "nbconvert_exporter": "python",
   "pygments_lexer": "ipython3",
   "version": "3.6.6"
  }
 },
 "nbformat": 4,
 "nbformat_minor": 2
}
