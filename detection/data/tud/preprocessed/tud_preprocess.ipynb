{
 "cells": [
  {
   "cell_type": "code",
   "execution_count": 1,
   "metadata": {},
   "outputs": [],
   "source": [
    "import numpy as np\n",
    "import glob\n",
    "import re\n",
    "import matplotlib.pyplot as plt\n",
    "from PIL import Image"
   ]
  },
  {
   "cell_type": "code",
   "execution_count": 2,
   "metadata": {},
   "outputs": [],
   "source": [
    "cow_file_path = \"../TUDarmstadt/Annotations/sideviews-cows2\"\n",
    "car_file_path = \"../TUDarmstadt/Annotations/sideviews-cars\"\n",
    "#motorbike_file_path = \"../TUDarmstadt/Annotations/motorbike-testset\"\n",
    "files = glob.glob(cow_file_path + \"/*\")\n",
    "files.extend(glob.glob(car_file_path + \"/*\"))\n",
    "files = np.random.permutation(files)"
   ]
  },
  {
   "cell_type": "code",
   "execution_count": 8,
   "metadata": {},
   "outputs": [],
   "source": [
    "n, w, h, c = len(files), 224, 224, 3\n",
    "images = np.zeros((n,h,w,c)).astype(int)\n",
    "label_dict = {\"cowSide\":0, \"carSide\":1, \"motorbikeSide\":2}\n",
    "classes = np.zeros(n).astype(int)\n",
    "bboxes = np.zeros((n, 4)).astype(int)\n",
    "\n",
    "for i, file in enumerate(files):\n",
    "    with open(file) as f:\n",
    "        for line in f:\n",
    "            if len(re.findall(r\"Image filename\", line)) != 0:\n",
    "                path = line.split(\":\")[-1].rstrip(\"\\n\")\n",
    "                path = \"../\" + re.sub(r\"[\\\" ]\", \"\", path)\n",
    "                im = Image.open(path)\n",
    "                im = im.resize((w,h), Image.BICUBIC)\n",
    "                img = np.array(im)\n",
    "                images[i] = img\n",
    "            elif len(re.findall(r\"Original label\", line)) != 0:\n",
    "                label = line.split(\":\")[-1].rstrip(\"\\n\")\n",
    "                label = re.sub(r\"[\\\" ]\", \"\", label)\n",
    "                classes[i] = label_dict[label]\n",
    "            elif len(re.findall(r\"Bounding box\", line)) != 0:\n",
    "                bbox = line.split(\":\")[-1]\n",
    "                xmin, ymin, xmax, ymax = re.findall(r\"(?<=[^\\d])([\\d]+)(?=[^\\d])\", bbox)\n",
    "                xmin, ymin, xmax, ymax = int(xmin), int(ymin), int(xmax), int(ymax)\n",
    "                bboxes[i] = np.array([xmin, ymin, xmax, ymax])"
   ]
  }
 ],
 "metadata": {
  "kernelspec": {
   "display_name": "Python 3",
   "language": "python",
   "name": "python3"
  },
  "language_info": {
   "codemirror_mode": {
    "name": "ipython",
    "version": 3
   },
   "file_extension": ".py",
   "mimetype": "text/x-python",
   "name": "python",
   "nbconvert_exporter": "python",
   "pygments_lexer": "ipython3",
   "version": "3.7.0"
  }
 },
 "nbformat": 4,
 "nbformat_minor": 2
}
