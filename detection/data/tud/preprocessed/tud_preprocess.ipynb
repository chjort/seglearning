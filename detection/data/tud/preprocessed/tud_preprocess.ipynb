{
 "cells": [
  {
   "cell_type": "code",
   "execution_count": 49,
   "metadata": {},
   "outputs": [],
   "source": [
    "import numpy as np\n",
    "import tensorflow as tf\n",
    "import glob\n",
    "import re\n",
    "import matplotlib.pyplot as plt\n",
    "from PIL import Image"
   ]
  },
  {
   "cell_type": "code",
   "execution_count": 4,
   "metadata": {},
   "outputs": [],
   "source": [
    "file_path = \"../data/tud/TUDarmstadt/Annotations/sideviews-cows2\"\n",
    "files = glob.glob(file_path + \"/*\")"
   ]
  },
  {
   "cell_type": "code",
   "execution_count": 24,
   "metadata": {},
   "outputs": [],
   "source": [
    "filt = lambda x: (len(re.findall(r\"Image filename\", x)) != 0 or\n",
    "                  len(re.findall(r\"Image size\", x)) != 0 or\n",
    "                  len(re.findall(r\"Original label\", x)) != 0 or\n",
    "                  len(re.findall(r\"Bounding box\", x)) != 0\n",
    "                 )"
   ]
  },
  {
   "cell_type": "code",
   "execution_count": 73,
   "metadata": {},
   "outputs": [],
   "source": [
    "with open(files[0]) as f:\n",
    "    for line in f:\n",
    "        if len(re.findall(r\"Image filename\", line)) != 0:\n",
    "            path = line.split(\":\")[-1].rstrip(\"\\n\")\n",
    "            path = \"../data/tud/\" + re.sub(r\"[\\\" ]\", \"\", path)\n",
    "            img = np.array(Image.open(path))\n",
    "        elif len(re.findall(r\"Original label\", line)) != 0:\n",
    "            label = line.split(\":\")[-1].rstrip(\"\\n\")\n",
    "            label = re.sub(r\"[\\\" ]\", \"\", label)\n",
    "        elif len(re.findall(r\"Bounding box\", line)) != 0:\n",
    "            bbox = line.split(\":\")[-1]\n",
    "            #bbox = re.sub(r\"[\\\" ]\", \"\", bbox)"
   ]
  },
  {
   "cell_type": "code",
   "execution_count": 80,
   "metadata": {},
   "outputs": [
    {
     "data": {
      "text/plain": [
       "' (106, 118) - (283, 215)\\n'"
      ]
     },
     "execution_count": 80,
     "metadata": {},
     "output_type": "execute_result"
    }
   ],
   "source": [
    "bbox"
   ]
  },
  {
   "cell_type": "code",
   "execution_count": 77,
   "metadata": {},
   "outputs": [
    {
     "data": {
      "text/plain": [
       "['1', '0', '6', '1', '1', '8', '2', '8', '3', '2', '1', '5']"
      ]
     },
     "execution_count": 77,
     "metadata": {},
     "output_type": "execute_result"
    }
   ],
   "source": [
    "re.findall(r\"([0-9])\", bbox)"
   ]
  },
  {
   "cell_type": "code",
   "execution_count": 25,
   "metadata": {},
   "outputs": [
    {
     "data": {
      "text/plain": [
       "['Image filename : \"TUDarmstadt/PNGImages/sideviews-cows2/cow-pic110-sml-lt.png\"\\n',\n",
       " 'Image size (X x Y x C) : 368 x 272 x 3\\n',\n",
       " 'Original label for object 1 \"PAScowSide\" : \"cowSide\"\\n',\n",
       " 'Bounding box for object 1 \"PAScowSide\" (Xmin, Ymin) - (Xmax, Ymax) : (106, 118) - (283, 215)\\n']"
      ]
     },
     "execution_count": 25,
     "metadata": {},
     "output_type": "execute_result"
    }
   ],
   "source": [
    "list(filter(filt, txt))"
   ]
  }
 ],
 "metadata": {
  "kernelspec": {
   "display_name": "Python 3",
   "language": "python",
   "name": "python3"
  },
  "language_info": {
   "codemirror_mode": {
    "name": "ipython",
    "version": 3
   },
   "file_extension": ".py",
   "mimetype": "text/x-python",
   "name": "python",
   "nbconvert_exporter": "python",
   "pygments_lexer": "ipython3",
   "version": "3.6.7"
  }
 },
 "nbformat": 4,
 "nbformat_minor": 2
}
